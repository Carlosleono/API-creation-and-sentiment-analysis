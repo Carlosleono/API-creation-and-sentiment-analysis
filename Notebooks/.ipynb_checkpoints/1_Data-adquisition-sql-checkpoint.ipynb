{
 "cells": [
  {
   "cell_type": "code",
   "execution_count": 1,
   "id": "4bd78ab0",
   "metadata": {},
   "outputs": [],
   "source": [
    "import pandas as pd\n",
    "import os\n",
    "import sqlalchemy as alch\n",
    "from getpass import getpass\n",
    "import sys\n",
    "sys.path.append('/mnt/c/Users/cleon/Documents/CAL_CAL/ironhack/Proyectos/API-creation-and-sentiment-analysis/src')\n",
    "import sqlfunctions as sql\n",
    "import re\n",
    "from dotenv import load_dotenv"
   ]
  },
  {
   "cell_type": "code",
   "execution_count": 2,
   "id": "d66bb3f9",
   "metadata": {},
   "outputs": [],
   "source": [
    "scripts = pd.read_csv('../data/mcu.csv')"
   ]
  },
  {
   "cell_type": "code",
   "execution_count": 3,
   "id": "46865f46",
   "metadata": {},
   "outputs": [
    {
     "name": "stdout",
     "output_type": "stream",
     "text": [
      "<class 'pandas.core.frame.DataFrame'>\n",
      "RangeIndex: 15724 entries, 0 to 15723\n",
      "Data columns (total 38 columns):\n",
      " #   Column                   Non-Null Count  Dtype \n",
      "---  ------                   --------------  ----- \n",
      " 0   Unnamed: 0               15724 non-null  int64 \n",
      " 1   character                15724 non-null  object\n",
      " 2   line                     15724 non-null  object\n",
      " 3   movie                    15724 non-null  object\n",
      " 4   year                     15724 non-null  int64 \n",
      " 5   words                    15724 non-null  int64 \n",
      " 6   Adam McKay               15724 non-null  bool  \n",
      " 7   Anna Boden               15724 non-null  bool  \n",
      " 8   Art Marcum               15724 non-null  bool  \n",
      " 9   Ashley Edward Miller     15724 non-null  bool  \n",
      " 10  Chris McKenna            15724 non-null  bool  \n",
      " 11  Christopher Ford         15724 non-null  bool  \n",
      " 12  Christopher Markus       15724 non-null  bool  \n",
      " 13  Christopher Yost         15724 non-null  bool  \n",
      " 14  Craig Kyle               15724 non-null  bool  \n",
      " 15  Don Payne                15724 non-null  bool  \n",
      " 16  Drew Pearce              15724 non-null  bool  \n",
      " 17  Edgar Wright             15724 non-null  bool  \n",
      " 18  Eric Pearson             15724 non-null  bool  \n",
      " 19  Erik Sommers             15724 non-null  bool  \n",
      " 20  Geneva Robertson-Dworet  15724 non-null  bool  \n",
      " 21  Hawk Ostby               15724 non-null  bool  \n",
      " 22  James Gunn               15724 non-null  bool  \n",
      " 23  Joe Cornish              15724 non-null  bool  \n",
      " 24  Joe Robert Cole          15724 non-null  bool  \n",
      " 25  John Francis Daley       15724 non-null  bool  \n",
      " 26  Jon Watts                15724 non-null  bool  \n",
      " 27  Jonathan Goldstein       15724 non-null  bool  \n",
      " 28  Joss Whedon              15724 non-null  bool  \n",
      " 29  Justin Theroux           15724 non-null  bool  \n",
      " 30  Mark Fergus              15724 non-null  bool  \n",
      " 31  Matt Holloway            15724 non-null  bool  \n",
      " 32  Paul Rudd                15724 non-null  bool  \n",
      " 33  Ryan Coogler             15724 non-null  bool  \n",
      " 34  Ryan Fleck               15724 non-null  bool  \n",
      " 35  Shane Black              15724 non-null  bool  \n",
      " 36  Stephen McFeely          15724 non-null  bool  \n",
      " 37  Zack Stentz              15724 non-null  bool  \n",
      "dtypes: bool(32), int64(3), object(3)\n",
      "memory usage: 1.2+ MB\n"
     ]
    }
   ],
   "source": [
    "scripts.info()"
   ]
  },
  {
   "cell_type": "code",
   "execution_count": 4,
   "id": "551e2891",
   "metadata": {},
   "outputs": [],
   "source": [
    "marvel = scripts[['character', 'line', 'movie', 'year', 'words']]"
   ]
  },
  {
   "cell_type": "code",
   "execution_count": 5,
   "id": "b4cfa87e",
   "metadata": {},
   "outputs": [
    {
     "data": {
      "text/html": [
       "<div>\n",
       "<style scoped>\n",
       "    .dataframe tbody tr th:only-of-type {\n",
       "        vertical-align: middle;\n",
       "    }\n",
       "\n",
       "    .dataframe tbody tr th {\n",
       "        vertical-align: top;\n",
       "    }\n",
       "\n",
       "    .dataframe thead th {\n",
       "        text-align: right;\n",
       "    }\n",
       "</style>\n",
       "<table border=\"1\" class=\"dataframe\">\n",
       "  <thead>\n",
       "    <tr style=\"text-align: right;\">\n",
       "      <th></th>\n",
       "      <th>character</th>\n",
       "      <th>line</th>\n",
       "      <th>movie</th>\n",
       "      <th>year</th>\n",
       "      <th>words</th>\n",
       "    </tr>\n",
       "  </thead>\n",
       "  <tbody>\n",
       "    <tr>\n",
       "      <th>12521</th>\n",
       "      <td>T'CHALLA</td>\n",
       "      <td>I gave you Zemo.</td>\n",
       "      <td>Black Panther</td>\n",
       "      <td>2018</td>\n",
       "      <td>4</td>\n",
       "    </tr>\n",
       "    <tr>\n",
       "      <th>9974</th>\n",
       "      <td>PETER QUILL</td>\n",
       "      <td>But my mother. You said you loved my mother.</td>\n",
       "      <td>Guardians of the Galaxy Vol. 2</td>\n",
       "      <td>2017</td>\n",
       "      <td>9</td>\n",
       "    </tr>\n",
       "    <tr>\n",
       "      <th>3918</th>\n",
       "      <td>CLINT BARTON</td>\n",
       "      <td>Well, if I put an arrow through Loki’s eye soc...</td>\n",
       "      <td>The Avengers</td>\n",
       "      <td>2012</td>\n",
       "      <td>16</td>\n",
       "    </tr>\n",
       "    <tr>\n",
       "      <th>8062</th>\n",
       "      <td>HOPE VAN DYNE</td>\n",
       "      <td>You were trying to bring her back.</td>\n",
       "      <td>Ant-Man</td>\n",
       "      <td>2015</td>\n",
       "      <td>7</td>\n",
       "    </tr>\n",
       "    <tr>\n",
       "      <th>878</th>\n",
       "      <td>TONY STARK</td>\n",
       "      <td>That’s it. I’m done. What’s your name, lady?</td>\n",
       "      <td>Iron Man 2</td>\n",
       "      <td>2010</td>\n",
       "      <td>8</td>\n",
       "    </tr>\n",
       "  </tbody>\n",
       "</table>\n",
       "</div>"
      ],
      "text/plain": [
       "           character                                               line  \\\n",
       "12521       T'CHALLA                                   I gave you Zemo.   \n",
       "9974     PETER QUILL       But my mother. You said you loved my mother.   \n",
       "3918    CLINT BARTON  Well, if I put an arrow through Loki’s eye soc...   \n",
       "8062   HOPE VAN DYNE                 You were trying to bring her back.   \n",
       "878       TONY STARK       That’s it. I’m done. What’s your name, lady?   \n",
       "\n",
       "                                movie  year  words  \n",
       "12521                   Black Panther  2018      4  \n",
       "9974   Guardians of the Galaxy Vol. 2  2017      9  \n",
       "3918                     The Avengers  2012     16  \n",
       "8062                          Ant-Man  2015      7  \n",
       "878                        Iron Man 2  2010      8  "
      ]
     },
     "execution_count": 5,
     "metadata": {},
     "output_type": "execute_result"
    }
   ],
   "source": [
    "marvel.sample(5)"
   ]
  },
  {
   "cell_type": "code",
   "execution_count": 6,
   "id": "562be6be",
   "metadata": {},
   "outputs": [
    {
     "data": {
      "text/plain": [
       "array(['Iron Man', 'Iron Man 2', 'Thor',\n",
       "       'Captain America: The First Avenger', 'The Avengers', 'Iron Man 3',\n",
       "       'Thor: The Dark World', 'Captain America: The Winter Soldier',\n",
       "       'Avengers: Age of Ultron', 'Ant-Man', 'Captain America: Civil War',\n",
       "       'Guardians of the Galaxy Vol. 2', 'Spider-Man: Homecoming',\n",
       "       'Thor: Ragnarok', 'Black Panther', 'Avengers: Infinity War',\n",
       "       'Captain Marvel', 'Avengers: Endgame'], dtype=object)"
      ]
     },
     "execution_count": 6,
     "metadata": {},
     "output_type": "execute_result"
    }
   ],
   "source": [
    "marvel.movie.unique()"
   ]
  },
  {
   "cell_type": "code",
   "execution_count": 7,
   "id": "6d84e6d3",
   "metadata": {},
   "outputs": [
    {
     "data": {
      "text/plain": [
       "15169                     One sec, just packing my lunch. \n",
       "15192    Alexander Pierce.  He’s the guy behind the guy...\n",
       "15196    I’m not gonna argue who has authority here but...\n",
       "Name: line, dtype: object"
      ]
     },
     "execution_count": 7,
     "metadata": {},
     "output_type": "execute_result"
    }
   ],
   "source": [
    "marvel.loc[marvel.character=='A1 TONY']['line']"
   ]
  },
  {
   "cell_type": "code",
   "execution_count": 8,
   "id": "e006a30a",
   "metadata": {},
   "outputs": [
    {
     "name": "stderr",
     "output_type": "stream",
     "text": [
      "<ipython-input-8-d9b988e953fb>:1: SettingWithCopyWarning: \n",
      "A value is trying to be set on a copy of a slice from a DataFrame.\n",
      "Try using .loc[row_indexer,col_indexer] = value instead\n",
      "\n",
      "See the caveats in the documentation: https://pandas.pydata.org/pandas-docs/stable/user_guide/indexing.html#returning-a-view-versus-a-copy\n",
      "  marvel['character'] = sql.nombres(marvel['character'])\n"
     ]
    }
   ],
   "source": [
    "marvel['character'] = sql.nombres(marvel['character'])"
   ]
  },
  {
   "cell_type": "code",
   "execution_count": 10,
   "id": "9a9a34f9",
   "metadata": {},
   "outputs": [
    {
     "name": "stderr",
     "output_type": "stream",
     "text": [
      "<ipython-input-10-85fa8048f573>:1: SettingWithCopyWarning: \n",
      "A value is trying to be set on a copy of a slice from a DataFrame.\n",
      "Try using .loc[row_indexer,col_indexer] = value instead\n",
      "\n",
      "See the caveats in the documentation: https://pandas.pydata.org/pandas-docs/stable/user_guide/indexing.html#returning-a-view-versus-a-copy\n",
      "  marvel[\"line\"] = marvel.line.apply(sql.sustituye)\n",
      "<ipython-input-10-85fa8048f573>:2: SettingWithCopyWarning: \n",
      "A value is trying to be set on a copy of a slice from a DataFrame.\n",
      "Try using .loc[row_indexer,col_indexer] = value instead\n",
      "\n",
      "See the caveats in the documentation: https://pandas.pydata.org/pandas-docs/stable/user_guide/indexing.html#returning-a-view-versus-a-copy\n",
      "  marvel[\"character\"] = marvel.character.apply(sql.sustituye)\n",
      "<ipython-input-10-85fa8048f573>:3: SettingWithCopyWarning: \n",
      "A value is trying to be set on a copy of a slice from a DataFrame.\n",
      "Try using .loc[row_indexer,col_indexer] = value instead\n",
      "\n",
      "See the caveats in the documentation: https://pandas.pydata.org/pandas-docs/stable/user_guide/indexing.html#returning-a-view-versus-a-copy\n",
      "  marvel[\"movie\"] = marvel.movie.apply(sql.sustituye)\n"
     ]
    }
   ],
   "source": [
    "marvel[\"line\"] = marvel.line.apply(sql.sustituye)\n",
    "marvel[\"character\"] = marvel.character.apply(sql.sustituye)\n",
    "marvel[\"movie\"] = marvel.movie.apply(sql.sustituye)"
   ]
  },
  {
   "cell_type": "code",
   "execution_count": 11,
   "id": "0d28f87f",
   "metadata": {},
   "outputs": [
    {
     "data": {
      "text/plain": [
       "'Millions of years ago, a meteorite made of vibranium, the strongest substance in the universe struck the continent of Africa affecting the plant life around it. And when the time of man came, five tribes settled on it and called it Wakanda. The tribes lived in constant war with each other until a warrior shaman received a vision from the Panther goddess Bast who led him to the Heart Shaped Herb, a plant that granted him super human strength, speed, and instincts. The warrior became King and the first Black Panther, the protector of Wakanda. Four tribes agreed to live under the King`s rule, but the Jabari tribe isolated themselves in the mountains. The Wakandans used vibranium to develop technology more advanced than any other nation, but as Wakanda thrived the world around it descended further into chaos. To keep vibranium safe, the Wakandans vowed to hide in plain sight, keeping the truth of their power from the outside world.'"
      ]
     },
     "execution_count": 11,
     "metadata": {},
     "output_type": "execute_result"
    }
   ],
   "source": [
    "marvel.iloc[12309].line"
   ]
  },
  {
   "cell_type": "code",
   "execution_count": 12,
   "id": "8082ba94",
   "metadata": {},
   "outputs": [],
   "source": [
    "marvel.to_csv('../data/marvel.csv')"
   ]
  },
  {
   "cell_type": "code",
   "execution_count": 13,
   "id": "b2acda3d",
   "metadata": {},
   "outputs": [],
   "source": [
    "for index, fila in marvel.iterrows():\n",
    "    sql.insertLine(fila, index)"
   ]
  },
  {
   "cell_type": "code",
   "execution_count": null,
   "id": "c59f7289",
   "metadata": {},
   "outputs": [],
   "source": []
  }
 ],
 "metadata": {
  "kernelspec": {
   "display_name": "ironhack",
   "language": "python",
   "name": "ironhack"
  },
  "language_info": {
   "codemirror_mode": {
    "name": "ipython",
    "version": 3
   },
   "file_extension": ".py",
   "mimetype": "text/x-python",
   "name": "python",
   "nbconvert_exporter": "python",
   "pygments_lexer": "ipython3",
   "version": "3.8.8"
  }
 },
 "nbformat": 4,
 "nbformat_minor": 5
}
